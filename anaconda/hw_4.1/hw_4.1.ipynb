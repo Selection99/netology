{
 "cells": [
  {
   "cell_type": "code",
   "execution_count": 4,
   "metadata": {},
   "outputs": [],
   "source": [
    "import pandas as pd\n",
    "\n",
    "import numpy as np\n",
    "\n",
    "import matplotlib.pyplot as plt\n",
    "\n",
    "%matplotlib inline"
   ]
  },
  {
   "cell_type": "code",
   "execution_count": 5,
   "metadata": {},
   "outputs": [],
   "source": [
    "DATA_PATH = '/Users/husbook/PycharmProjects/start1/netology/anaconda/hw_4.1/names/'"
   ]
  },
  {
   "cell_type": "code",
   "execution_count": 34,
   "metadata": {},
   "outputs": [],
   "source": [
    "def get_data(year):\n",
    "    return pd.read_csv(f\"{DATA_PATH}yob{year}.txt\", names = ['Name', 'Gender', 'Count'])"
   ]
  },
  {
   "cell_type": "code",
   "execution_count": 136,
   "metadata": {
    "scrolled": false
   },
   "outputs": [
    {
     "data": {
      "text/plain": [
       "['James', 'John', 'Robert']"
      ]
     },
     "execution_count": 136,
     "metadata": {},
     "output_type": "execute_result"
    }
   ],
   "source": [
    "def merge_of_years(list_of_years):\n",
    "    data = get_data(list_of_years.pop(0))\n",
    "    for year in list_of_years:\n",
    "        data = pd.merge(data, get_data(year), 'outer', on=['Name', 'Gender'])\n",
    "        def sum_counts(row):\n",
    "            if np.isnan(row.Count_x):\n",
    "                return row.Count_y\n",
    "            if np.isnan(row.Count_y):\n",
    "                return row.Count_x\n",
    "            return row.Count_x + row.Count_y\n",
    "        data['Count'] = data.apply(sum_counts, axis = 1)\n",
    "        del data['Count_x']\n",
    "        del data['Count_y']\n",
    "    return data\n",
    "\n",
    "def count_top3(list_of_years):\n",
    "    return list(merge_of_years(list_of_years).sort_values('Count', ascending=False).head(3)['Name'])\n",
    "    \n",
    "count_top3([1900, 1950, 2000])"
   ]
  },
  {
   "cell_type": "code",
   "execution_count": 147,
   "metadata": {},
   "outputs": [
    {
     "data": {
      "text/plain": [
       "{'M': [150483, 1790549, 1962969], 'F': [299800, 1713151, 1815110]}"
      ]
     },
     "execution_count": 147,
     "metadata": {},
     "output_type": "execute_result"
    }
   ],
   "source": [
    "def count_dynamics(list_of_years):\n",
    "    result = {'M': [], 'F': []}\n",
    "    for year in list_of_years:\n",
    "        data = get_data(year)\n",
    "        def add_to_result(sex):\n",
    "             result[sex].append(data[data.Gender == sex].Count.sum())\n",
    "        add_to_result('M')\n",
    "        add_to_result('F')\n",
    "    return result\n",
    "\n",
    "count_dynamics([1900, 1950, 2000])"
   ]
  },
  {
   "cell_type": "code",
   "execution_count": 154,
   "metadata": {},
   "outputs": [
    {
     "data": {
      "text/plain": [
       "['Mary', 'John', 'William']"
      ]
     },
     "execution_count": 154,
     "metadata": {},
     "output_type": "execute_result"
    }
   ],
   "source": [
    "count_top3([1899])"
   ]
  },
  {
   "cell_type": "code",
   "execution_count": null,
   "metadata": {},
   "outputs": [],
   "source": []
  }
 ],
 "metadata": {
  "kernelspec": {
   "display_name": "Python 3",
   "language": "python",
   "name": "python3"
  },
  "language_info": {
   "codemirror_mode": {
    "name": "ipython",
    "version": 3
   },
   "file_extension": ".py",
   "mimetype": "text/x-python",
   "name": "python",
   "nbconvert_exporter": "python",
   "pygments_lexer": "ipython3",
   "version": "3.6.5"
  }
 },
 "nbformat": 4,
 "nbformat_minor": 2
}
